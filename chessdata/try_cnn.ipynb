{
 "cells": [
  {
   "cell_type": "code",
   "execution_count": null,
   "id": "2a02a9d7-57a4-4463-81cc-49dc8619ef55",
   "metadata": {},
   "outputs": [],
   "source": [
    "from chessf.parser import FilePGN\n",
    "from chessf.engine import Stockfish\n",
    "from chessf.convert import eval_to_white_win_p, win_p_to_one_hot_bin, elo_to_one_hot, elo_diff_to_one_hot, move_number_to_one_hot\n",
    "\n",
    "import numpy as np\n",
    "import pandas as pd\n",
    "from sklearn.metrics import roc_auc_score\n",
    "\n",
    "import torch\n",
    "import torch.nn as nn\n",
    "import torch.nn.functional as F\n",
    "import torch.optim as optim\n",
    "from torch.utils.data import DataLoader, TensorDataset\n",
    "torch.manual_seed(0)\n",
    "\n",
    "import plotly.express as px\n",
    "from time import perf_counter"
   ]
  },
  {
   "cell_type": "markdown",
   "id": "9aa00066-32c4-47ca-b016-36c45f192e26",
   "metadata": {},
   "source": [
    "## Prepare data"
   ]
  },
  {
   "cell_type": "code",
   "execution_count": null,
   "id": "b2b1257f-e8cb-42bd-bc9f-1817b3c171ec",
   "metadata": {},
   "outputs": [],
   "source": [
    "pgn_2017_02 = \"pgn/lichess_db_standard_rated_2017-02.pgn\"\n",
    "file = FilePGN(pgn_2017_02)"
   ]
  },
  {
   "cell_type": "code",
   "execution_count": null,
   "id": "1cb375c3-115f-469a-9b09-b98f6c3a4630",
   "metadata": {},
   "outputs": [],
   "source": [
    "stockfish_path = \"stockfish/stockfish.exe\"\n",
    "stockfish = Stockfish(stockfish_path)"
   ]
  },
  {
   "cell_type": "code",
   "execution_count": null,
   "id": "1d93659e-62bd-450b-81c8-5561672df562",
   "metadata": {},
   "outputs": [],
   "source": []
  },
  {
   "cell_type": "code",
   "execution_count": null,
   "id": "8aad2852-4e29-4681-8ea7-5ddfc0e02329",
   "metadata": {},
   "outputs": [],
   "source": []
  },
  {
   "cell_type": "code",
   "execution_count": null,
   "id": "03e42efe-7a4a-484e-a1a9-14eeb3d59901",
   "metadata": {},
   "outputs": [],
   "source": [
    "def get_data(n_games=10):\n",
    "\n",
    "    XX_1 = []\n",
    "    XX_2 = []\n",
    "    YY = []\n",
    "    \n",
    "    n_found = 0\n",
    "    while n_found < n_games:\n",
    "\n",
    "        game_moves, info = file.get_and_parse_next_good_game()\n",
    "        if len(game_moves) < 21:\n",
    "            continue\n",
    "        \n",
    "        stockfish.start_new_game()\n",
    "\n",
    "        target = int(info[\"Result\"] == \"1-0\") \n",
    "        \n",
    "        elo_white = elo_to_one_hot(info['WhiteElo'])\n",
    "        elo_black = elo_to_one_hot(info['BlackElo'])\n",
    "        elo_diff = elo_diff_to_one_hot(info['WhiteElo'] - info['BlackElo'])\n",
    "\n",
    "        move_to_analyze = np.random.randint(10*2, len(game_moves))\n",
    "        \n",
    "        for move_number, game_move in enumerate(game_moves, start=1):\n",
    "            if move_number != move_to_analyze:\n",
    "                stockfish.make_pgn_move(game_move)\n",
    "                continue\n",
    "            \n",
    "            bbm = stockfish.get_bitboard_matrix()\n",
    "            bbm_flat = bbm.flatten()\n",
    "\n",
    "            where_can_move = stockfish.get_where_can_move()\n",
    "            where_can_move_flat = where_can_move.flatten()\n",
    "\n",
    "            pseudolegal_moves = stockfish.get_pseudolegal_moves()\n",
    "            pseudolegal_moves_flat = pseudolegal_moves.flatten()\n",
    "            \n",
    "            win_p = eval_to_white_win_p( *stockfish.get_eval(depth=5) )\n",
    "            win_p_ohe = win_p_to_one_hot_bin(win_p)\n",
    "            \n",
    "            move_number_ohe = move_number_to_one_hot(move_number)\n",
    "            \n",
    "            if stockfish.side_to_move == 'w':\n",
    "                side_to_move_arr = np.array([1, 0])\n",
    "            else:\n",
    "                side_to_move_arr = np.array([0, 1])\n",
    "\n",
    "            stockfish.make_pgn_move(game_move)\n",
    "\n",
    "            where_can_move_opponent = stockfish.get_where_can_move()\n",
    "            where_can_move_opponent_flat = where_can_move.flatten()\n",
    "            where_can_move_all_flat = where_can_move_flat + where_can_move_opponent_flat\n",
    "            \n",
    "            features = np.concat([\n",
    "                bbm_flat, \n",
    "                where_can_move_all_flat, \n",
    "                pseudolegal_moves_flat\n",
    "            ])\n",
    "\n",
    "            features_added = np.concat([\n",
    "                side_to_move_arr, elo_white, elo_black, elo_diff, move_number_ohe, win_p_ohe\n",
    "            ])\n",
    "\n",
    "            XX_1.append(features.copy())\n",
    "            XX_2.append(features_added.copy())\n",
    "            YY.append(target)\n",
    "            n_found += 1\n",
    "\n",
    "    XX_1 = np.array(XX_1).reshape(n_games, -1, 8, 8)\n",
    "    XX_2 = np.array(XX_2)\n",
    "    YY = np.array(YY)\n",
    "    \n",
    "    return (\n",
    "        torch.Tensor(XX_1),\n",
    "        torch.Tensor(XX_2),\n",
    "        torch.Tensor(YY).view(-1, 1),\n",
    "    )"
   ]
  },
  {
   "cell_type": "code",
   "execution_count": null,
   "id": "b9afd957-5b60-4323-a338-0ffffc5a20b4",
   "metadata": {},
   "outputs": [],
   "source": []
  },
  {
   "cell_type": "code",
   "execution_count": null,
   "id": "18656ef6-a368-47ae-ad5c-dd41b841e013",
   "metadata": {},
   "outputs": [],
   "source": []
  },
  {
   "cell_type": "code",
   "execution_count": null,
   "id": "3eaec127-06c2-4318-be3e-6a2cec603729",
   "metadata": {},
   "outputs": [],
   "source": [
    "%%time\n",
    "test_data = get_data(n_games=2000)"
   ]
  },
  {
   "cell_type": "code",
   "execution_count": null,
   "id": "dd3b300e-be5b-406f-a089-d0ed9184d3b9",
   "metadata": {},
   "outputs": [],
   "source": [
    "test_data[0].shape"
   ]
  },
  {
   "cell_type": "code",
   "execution_count": null,
   "id": "cd87faa1-bc28-48ae-997d-e515258d9e4e",
   "metadata": {},
   "outputs": [],
   "source": []
  },
  {
   "cell_type": "code",
   "execution_count": null,
   "id": "017ce8b2-8db6-4c80-af5e-2a9232eab727",
   "metadata": {},
   "outputs": [],
   "source": []
  },
  {
   "cell_type": "markdown",
   "id": "be22d681-97c4-403c-8517-e0a5b61e8646",
   "metadata": {},
   "source": [
    "## NN 1"
   ]
  },
  {
   "cell_type": "code",
   "execution_count": null,
   "id": "ef2fd56c-3ce4-442f-8c86-bdf66f6b3896",
   "metadata": {},
   "outputs": [],
   "source": [
    "N_CLASSES = 1\n",
    "N_FEATURES = (64*5 + 10)\n",
    "INIT_STD = 0.01\n",
    "\n",
    "N_HIDDEN_1 = 128\n",
    "N_HIDDEN_2 = 128\n",
    "\n",
    "class SimpleFC(nn.Module):\n",
    "    def __init__(self):\n",
    "        super().__init__()        \n",
    "\n",
    "        self.conv_1 = nn.Conv2d(in_channels=42, out_channels=5, kernel_size=(1, 1))\n",
    "        self.conv_2 = nn.Conv2d(in_channels=5, out_channels=5, kernel_size=(1, 1))\n",
    "        \n",
    "        self.fc_layer = nn.Linear(38, 10)\n",
    "        self.layer_1 = nn.Linear(N_FEATURES, N_HIDDEN_1)\n",
    "        self.layer_2 = nn.Linear(N_HIDDEN_1, N_HIDDEN_2)\n",
    "        self.layer_f = nn.Linear(N_HIDDEN_2, N_CLASSES)\n",
    "\n",
    "        # nn.init.normal_(self.fc_layer.weight, 0, INIT_STD)\n",
    "        # nn.init.normal_(self.layer_1.weight, 0, INIT_STD)\n",
    "        # nn.init.normal_(self.layer_2.weight, 0, INIT_STD)\n",
    "        # nn.init.normal_(self.layer_f.weight, 0, INIT_STD)\n",
    "\n",
    "        self.norm_0 = nn.BatchNorm1d(N_FEATURES)\n",
    "        self.norm_1 = nn.BatchNorm1d(N_HIDDEN_1)\n",
    "        self.norm_2 = nn.BatchNorm1d(N_HIDDEN_2)\n",
    "        \n",
    "    def forward(self, x1, x2):\n",
    "\n",
    "        x1 = F.relu(self.conv_1(x1))\n",
    "        x1 = F.relu(self.conv_2(x1))\n",
    "        x2 = F.relu(self.fc_layer(x2))\n",
    "\n",
    "        x = torch.cat((x1.flatten(1), x2), dim=1)\n",
    "        x = self.norm_0(x)\n",
    "        \n",
    "        x = F.relu(self.layer_1(x))\n",
    "        x = self.norm_1(x)\n",
    "        x = F.relu(self.layer_2(x))\n",
    "        x = self.norm_2(x)\n",
    "        x = self.layer_f(x)\n",
    "        \n",
    "        return x"
   ]
  },
  {
   "cell_type": "code",
   "execution_count": null,
   "id": "40fba0aa-3208-4946-9ab3-dab495ae1afe",
   "metadata": {},
   "outputs": [],
   "source": [
    "model = SimpleFC()"
   ]
  },
  {
   "cell_type": "code",
   "execution_count": null,
   "id": "11afcec1-5527-43aa-b4d1-3063ce2fe9eb",
   "metadata": {},
   "outputs": [],
   "source": [
    "sum(p.numel() for p in model.parameters() if p.requires_grad)"
   ]
  },
  {
   "cell_type": "code",
   "execution_count": null,
   "id": "6850171c-6a7c-427d-9a67-eccf1cf63ff8",
   "metadata": {},
   "outputs": [],
   "source": [
    "criterion = nn.BCEWithLogitsLoss()\n",
    "optimizer = optim.Adam(model.parameters(), lr=1e-3)"
   ]
  },
  {
   "cell_type": "code",
   "execution_count": null,
   "id": "8cd2d091-7b24-41c6-a0fb-0be9ab139443",
   "metadata": {},
   "outputs": [],
   "source": [
    "train_losses = []\n",
    "test_losses = []\n",
    "test_accuracy = []\n",
    "roc_scores = []"
   ]
  },
  {
   "cell_type": "code",
   "execution_count": null,
   "id": "343c69e5-20f7-4c3e-bd78-bfbe33375c17",
   "metadata": {},
   "outputs": [],
   "source": []
  },
  {
   "cell_type": "markdown",
   "id": "3d08ee5d-9171-457e-959b-c2bea5edc42a",
   "metadata": {},
   "source": [
    "## Training"
   ]
  },
  {
   "cell_type": "code",
   "execution_count": null,
   "id": "02d96971-b8a7-48ec-82e3-6223d73ccaf6",
   "metadata": {},
   "outputs": [],
   "source": []
  },
  {
   "cell_type": "code",
   "execution_count": null,
   "id": "410674ee-e1e8-4ecb-b802-a2f22e199ceb",
   "metadata": {},
   "outputs": [],
   "source": [
    "for epoch in range(5):\n",
    "    # <train>\n",
    "    \n",
    "    model.train()\n",
    "    running_loss = 0.0\n",
    "\n",
    "    train_data = get_data(n_games=2000)\n",
    "    \n",
    "    inputs_1, inputs_2, labels = train_data\n",
    "    \n",
    "    optimizer.zero_grad()\n",
    "\n",
    "    outputs = model(inputs_1, inputs_2)\n",
    "    loss = criterion(outputs, labels)\n",
    "    loss.backward()\n",
    "\n",
    "    optimizer.step()\n",
    "    \n",
    "    running_loss += loss.item()\n",
    "\n",
    "    # print(f\"Running loss: {current_mean_loss:.6f}\")\n",
    "\n",
    "    mean_loss = running_loss / 1\n",
    "    train_losses.append(mean_loss)\n",
    "\n",
    "    # <test>\n",
    "    \n",
    "    model.eval()\n",
    "    correct, total = 0, 0\n",
    "    running_loss = 0.0\n",
    "\n",
    "    with torch.no_grad():\n",
    "            \n",
    "        images, images_2, labels = test_data\n",
    "        \n",
    "        outputs = model(images, images_2)\n",
    "        loss = criterion(outputs, labels)\n",
    "        running_loss += loss.item()\n",
    "        \n",
    "        \n",
    "        predicted_probability = F.sigmoid(outputs)\n",
    "        roc_score = roc_auc_score(labels[:, 0], predicted_probability[:, 0])\n",
    "        roc_scores.append(roc_score)\n",
    "        \n",
    "        total += labels.size(0)\n",
    "        correct += (F.sigmoid(outputs).round() == labels).sum()\n",
    "\n",
    "    mean_loss_test = running_loss / 1\n",
    "    test_losses.append(mean_loss_test)\n",
    "\n",
    "    accuracy = correct / total\n",
    "    test_accuracy.append(accuracy)\n",
    "\n",
    "    print(f\"Epoch: {str(epoch+1).zfill(4)}, Loss: {mean_loss:.6f}, Test: {mean_loss_test:.6f}, Acc: {accuracy:.6f} Roc: {roc_score:.6f}\")"
   ]
  },
  {
   "cell_type": "code",
   "execution_count": null,
   "id": "efdc3e98-c679-43b4-82db-63dbcebfadeb",
   "metadata": {},
   "outputs": [],
   "source": []
  },
  {
   "cell_type": "code",
   "execution_count": null,
   "id": "70974be7-2c76-460b-9a9e-8780a6f5c9d9",
   "metadata": {},
   "outputs": [],
   "source": []
  },
  {
   "cell_type": "markdown",
   "id": "822b22d1-1018-4e1d-b71b-9932ed0cc119",
   "metadata": {},
   "source": [
    "## Plot results"
   ]
  },
  {
   "cell_type": "code",
   "execution_count": null,
   "id": "d0139566-3aff-4538-a6a2-6ed02b63eefd",
   "metadata": {},
   "outputs": [],
   "source": [
    "fig = px.line(y=train_losses, template='plotly_white')\n",
    "fig.update_traces(mode=\"lines\", line_color='navy', line_width=4)\n",
    "fig.update_layout(xaxis_title=\"Epoch\", yaxis_title=\"Train Loss\")\n",
    "fig.update_layout(height=1080, width=1920, font_size=24)\n",
    "fig.show()\n",
    "fig.write_image('plots/cnn_train_loss.png')"
   ]
  },
  {
   "cell_type": "code",
   "execution_count": null,
   "id": "cb9ea249-f1e1-4c90-93fd-4dd5f6b29351",
   "metadata": {},
   "outputs": [],
   "source": [
    "fig = px.line(y=test_losses, template='plotly_white')\n",
    "fig.update_traces(mode=\"lines\", line_color='navy', line_width=4)\n",
    "fig.update_layout(xaxis_title=\"Epoch\", yaxis_title=\"Test Loss\")\n",
    "fig.update_layout(height=1080, width=1920, font_size=24)\n",
    "fig.show()\n",
    "fig.write_image('plots/cnn_test_loss.png')"
   ]
  },
  {
   "cell_type": "code",
   "execution_count": null,
   "id": "6e7b18f0-fbba-4941-b360-9dd4a86203e9",
   "metadata": {},
   "outputs": [],
   "source": [
    "fig = px.line(y=test_accuracy, template='plotly_white')\n",
    "fig.update_traces(mode=\"lines\", line_color='navy', line_width=4)\n",
    "fig.update_layout(xaxis_title=\"Epoch\", yaxis_title=\"Test Accuracy\")\n",
    "fig.update_layout(height=1080, width=1920, font_size=24)\n",
    "fig.show()\n",
    "fig.write_image('plots/cnn_test_accuracy.png')"
   ]
  },
  {
   "cell_type": "code",
   "execution_count": null,
   "id": "f9759baa-db37-4e52-9135-1374ca9c8e38",
   "metadata": {},
   "outputs": [],
   "source": [
    "fig = px.line(y=roc_scores, template='plotly_white')\n",
    "fig.update_traces(mode=\"lines\", line_color='navy', line_width=4)\n",
    "fig.update_layout(xaxis_title=\"Epoch\", yaxis_title=\"Test ROC AUC\")\n",
    "fig.update_layout(height=1080, width=1920, font_size=24)\n",
    "fig.show()\n",
    "fig.write_image('plots/cnn_test_rocauc.png')"
   ]
  },
  {
   "cell_type": "code",
   "execution_count": null,
   "id": "3abfd95e-4bff-4fd1-a541-a328c089bd5c",
   "metadata": {},
   "outputs": [],
   "source": []
  },
  {
   "cell_type": "code",
   "execution_count": null,
   "id": "14d2f9ef-8703-4e83-9ab8-753ff2bc61d5",
   "metadata": {},
   "outputs": [],
   "source": [
    "model.eval()\n",
    "with torch.no_grad():\n",
    "    images_1, images_2, labels = get_data(10_000)\n",
    "    outputs = model(images_1, images_2)\n",
    "    pred = F.sigmoid(outputs)[:, 0].numpy()\n",
    "\n",
    "y = labels.numpy()[:, 0]\n",
    "df = pd.DataFrame({\"pred\": pred, \"y\": y})"
   ]
  },
  {
   "cell_type": "code",
   "execution_count": null,
   "id": "56dfe2d0-d67d-4234-a175-d992ecf3c69a",
   "metadata": {},
   "outputs": [],
   "source": [
    "fig = px.scatter(\n",
    "    df.groupby( df[\"pred\"] // 0.10 * 0.10 + 0.05 ).agg({\"y\": \"mean\"}).squeeze(),\n",
    "    template='plotly_white',\n",
    "    # trendline='ols'\n",
    ").update_layout(height=1080, width=1080, yaxis_range=(0, 1), xaxis_range=(0, 1), showlegend=False,\n",
    "                xaxis_title=\"Predicted group\", yaxis_title=\"Real percent\").update_traces(\n",
    "    mode=\"lines+markers\", line_color='navy', marker_color='navy'\n",
    ")\n",
    "fig.update_traces(mode=\"lines+markers\", line_color='navy', line_width=4, marker_size=12)\n",
    "fig.update_layout(font_size=24)\n",
    "fig.show()\n",
    "fig.write_image('plots/cnn_groups_10.png')"
   ]
  },
  {
   "cell_type": "code",
   "execution_count": null,
   "id": "0161279e-fad6-4e96-b380-dcae0ca5cc83",
   "metadata": {},
   "outputs": [],
   "source": [
    "fig = px.scatter(\n",
    "    df.groupby( df[\"pred\"] // 0.05 * 0.05 + 0.025 ).agg({\"y\": \"mean\"}).squeeze(),\n",
    "    template='plotly_white',\n",
    "    # trendline='ols'\n",
    ").update_layout(height=1080, width=1080, yaxis_range=(0, 1), xaxis_range=(0, 1), showlegend=False,\n",
    "                xaxis_title=\"Predicted group\", yaxis_title=\"Real percent\").update_traces(\n",
    "    mode=\"lines+markers\", line_color='navy', marker_color='navy'\n",
    ")\n",
    "fig.update_traces(mode=\"lines+markers\", line_color='navy', line_width=4, marker_size=12)\n",
    "fig.update_layout(font_size=24)\n",
    "fig.show()\n",
    "fig.write_image('plots/cnn_groups_20.png')"
   ]
  },
  {
   "cell_type": "code",
   "execution_count": null,
   "id": "5c40bc3a-c646-4f50-acc2-fc798c47a343",
   "metadata": {},
   "outputs": [],
   "source": []
  },
  {
   "cell_type": "code",
   "execution_count": null,
   "id": "58753780-4bf3-465e-9d1b-7305c3d53c22",
   "metadata": {},
   "outputs": [],
   "source": []
  },
  {
   "cell_type": "code",
   "execution_count": null,
   "id": "9582740c-96b6-4a57-97ed-63924fb83b61",
   "metadata": {},
   "outputs": [],
   "source": []
  },
  {
   "cell_type": "code",
   "execution_count": null,
   "id": "89275178-efcd-44a7-a3cc-9061efc78a38",
   "metadata": {},
   "outputs": [],
   "source": []
  }
 ],
 "metadata": {
  "kernelspec": {
   "display_name": "Python 3 (ipykernel)",
   "language": "python",
   "name": "python3"
  },
  "language_info": {
   "codemirror_mode": {
    "name": "ipython",
    "version": 3
   },
   "file_extension": ".py",
   "mimetype": "text/x-python",
   "name": "python",
   "nbconvert_exporter": "python",
   "pygments_lexer": "ipython3",
   "version": "3.12.8"
  }
 },
 "nbformat": 4,
 "nbformat_minor": 5
}
