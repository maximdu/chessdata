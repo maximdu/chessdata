{
 "cells": [
  {
   "cell_type": "code",
   "execution_count": null,
   "id": "3229fc52-8ee6-4f14-abe9-0025304d990d",
   "metadata": {},
   "outputs": [],
   "source": [
    "from chessf.parser import FilePGN\n",
    "from chessf.engine import Stockfish\n",
    "\n",
    "import numpy as np\n",
    "import pandas as pd\n",
    "\n",
    "import plotly.express as px\n",
    "from time import perf_counter"
   ]
  },
  {
   "cell_type": "code",
   "execution_count": null,
   "id": "a4536c98-6cac-4af3-8846-d3aea6bb0b52",
   "metadata": {},
   "outputs": [],
   "source": [
    "pgn_2017_02 = \"pgn/lichess_db_standard_rated_2017-02.pgn\"\n",
    "file = FilePGN(pgn_2017_02)"
   ]
  },
  {
   "cell_type": "code",
   "execution_count": null,
   "id": "569b54ab-16ac-41ca-a199-0d65d1e996f9",
   "metadata": {},
   "outputs": [],
   "source": [
    "stockfish_path = \"stockfish/stockfish.exe\"\n",
    "stockfish = Stockfish(stockfish_path, n_threads=2, hash_mb=4)"
   ]
  },
  {
   "cell_type": "code",
   "execution_count": null,
   "id": "65b25eb6-82ea-41cd-8dd5-52a621ddffcc",
   "metadata": {},
   "outputs": [],
   "source": []
  },
  {
   "cell_type": "code",
   "execution_count": null,
   "id": "33f00668-e630-4543-a1e7-b06628c7329a",
   "metadata": {},
   "outputs": [],
   "source": [
    "time_start = perf_counter()\n",
    "\n",
    "for game_id in range(1_000):\n",
    "\n",
    "    game_moves, info = file.get_and_parse_next_good_game()\n",
    "    stockfish.start_new_game()\n",
    "    evals = []\n",
    "    for move_number, game_move in enumerate(game_moves, start=1):\n",
    "        evals.append( stockfish.get_eval(depth=5) )\n",
    "        stockfish.make_pgn_move(game_move)\n",
    "\n",
    "time_end = perf_counter()\n",
    "\n",
    "print(f\"{time_end-time_start:.1f}\")"
   ]
  },
  {
   "cell_type": "code",
   "execution_count": null,
   "id": "bdec0eaf-4c5c-466c-8aa9-99162c86c055",
   "metadata": {},
   "outputs": [],
   "source": []
  },
  {
   "cell_type": "code",
   "execution_count": null,
   "id": "2bd291e9-75f0-4bd4-9a62-e55ebc0b937c",
   "metadata": {},
   "outputs": [],
   "source": []
  },
  {
   "cell_type": "code",
   "execution_count": null,
   "id": "939a4825-51d1-47b5-a825-d201343cb047",
   "metadata": {},
   "outputs": [],
   "source": []
  },
  {
   "cell_type": "code",
   "execution_count": null,
   "id": "d2effaed-ce37-4e91-abeb-7f1865480a21",
   "metadata": {},
   "outputs": [],
   "source": []
  },
  {
   "cell_type": "code",
   "execution_count": null,
   "id": "a45c49f6-69d1-4f93-a614-76b4eac1c583",
   "metadata": {},
   "outputs": [],
   "source": []
  }
 ],
 "metadata": {
  "kernelspec": {
   "display_name": "Python 3 (ipykernel)",
   "language": "python",
   "name": "python3"
  },
  "language_info": {
   "codemirror_mode": {
    "name": "ipython",
    "version": 3
   },
   "file_extension": ".py",
   "mimetype": "text/x-python",
   "name": "python",
   "nbconvert_exporter": "python",
   "pygments_lexer": "ipython3",
   "version": "3.12.8"
  }
 },
 "nbformat": 4,
 "nbformat_minor": 5
}
