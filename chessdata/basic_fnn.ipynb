{
 "cells": [
  {
   "cell_type": "code",
   "execution_count": null,
   "id": "2a02a9d7-57a4-4463-81cc-49dc8619ef55",
   "metadata": {},
   "outputs": [],
   "source": [
    "import subprocess\n",
    "\n",
    "from chessf.parser import FilePGN\n",
    "from chessf.engine import Stockfish\n",
    "\n",
    "import numpy as np\n",
    "import pandas as pd\n",
    "pd.set_option(\"display.max_rows\", 200)\n",
    "\n",
    "import torch\n",
    "import torch.nn as nn\n",
    "import torch.nn.functional as F\n",
    "import torch.optim as optim\n",
    "from torch.utils.data import DataLoader, TensorDataset\n",
    "torch.manual_seed(0)\n",
    "\n",
    "import plotly.express as px\n",
    "from time import perf_counter"
   ]
  },
  {
   "cell_type": "code",
   "execution_count": null,
   "id": "73520112-dcc2-4330-89ce-7c2686ed7aa2",
   "metadata": {},
   "outputs": [],
   "source": []
  },
  {
   "cell_type": "code",
   "execution_count": null,
   "id": "b2b1257f-e8cb-42bd-bc9f-1817b3c171ec",
   "metadata": {},
   "outputs": [],
   "source": [
    "pgn_2017_02 = \"pgn/lichess_db_standard_rated_2017-02.pgn\"\n",
    "file = FilePGN(pgn_2017_02)"
   ]
  },
  {
   "cell_type": "code",
   "execution_count": null,
   "id": "0c8f89d4-0111-4a0d-8718-5876d99babd5",
   "metadata": {},
   "outputs": [],
   "source": [
    "moves, info, _ = file.get_and_parse_next_game()"
   ]
  },
  {
   "cell_type": "code",
   "execution_count": null,
   "id": "50efc445-0740-4b5c-bf41-4d331bbc3be8",
   "metadata": {},
   "outputs": [],
   "source": []
  },
  {
   "cell_type": "code",
   "execution_count": null,
   "id": "1cb375c3-115f-469a-9b09-b98f6c3a4630",
   "metadata": {},
   "outputs": [],
   "source": [
    "stockfish_path = \"stockfish/stockfish.exe\"\n",
    "stockfish = Stockfish(stockfish_path)"
   ]
  },
  {
   "cell_type": "code",
   "execution_count": null,
   "id": "87dd5e4f-cd7e-400f-ba3d-588ad49d104e",
   "metadata": {},
   "outputs": [],
   "source": [
    "stockfish.start_new_game()"
   ]
  },
  {
   "cell_type": "code",
   "execution_count": null,
   "id": "cc1747e6-3361-4293-a3ed-90240d42d632",
   "metadata": {},
   "outputs": [],
   "source": [
    "stockfish.get_legal_moves()"
   ]
  },
  {
   "cell_type": "code",
   "execution_count": null,
   "id": "58f1f474-632d-479e-9881-cc2e69b9571b",
   "metadata": {},
   "outputs": [],
   "source": [
    "a = stockfish.get_bitboard_matrix()"
   ]
  },
  {
   "cell_type": "code",
   "execution_count": null,
   "id": "23938c92-aa60-4c50-982a-b01f94867f93",
   "metadata": {},
   "outputs": [],
   "source": [
    "a.sum(axis=1)"
   ]
  },
  {
   "cell_type": "code",
   "execution_count": null,
   "id": "234e5a94-213b-49fa-b04e-a37652af02d2",
   "metadata": {},
   "outputs": [],
   "source": []
  },
  {
   "cell_type": "code",
   "execution_count": null,
   "id": "f98af83c-df89-4257-9765-ed66458e2007",
   "metadata": {},
   "outputs": [],
   "source": []
  },
  {
   "cell_type": "code",
   "execution_count": null,
   "id": "4965d766-8f35-4b0d-ac33-e49f02099db2",
   "metadata": {},
   "outputs": [],
   "source": []
  },
  {
   "cell_type": "code",
   "execution_count": null,
   "id": "79e6ca4f-a22e-4ba6-b211-7a8f4408f009",
   "metadata": {},
   "outputs": [],
   "source": [
    "def is_good_game(info):\n",
    "    if info[\"TimeControl\"].split(\"+\")[0] not in [\"600\", \"900\"]:\n",
    "        raise Exception()\n",
    "    if abs(info[\"WhiteRatingDiff\"]) > 25:\n",
    "        raise Exception()\n",
    "    if abs(info[\"BlackRatingDiff\"]) > 25:\n",
    "        raise Exception()"
   ]
  },
  {
   "cell_type": "code",
   "execution_count": null,
   "id": "081b4b04-d906-4e52-ab1f-472daf339ca7",
   "metadata": {},
   "outputs": [],
   "source": []
  },
  {
   "cell_type": "code",
   "execution_count": null,
   "id": "7d645e48-aacb-4269-adce-8d7296d7d56e",
   "metadata": {},
   "outputs": [],
   "source": [
    "def sigmoid(x, a1, a2, a3, a4):\n",
    "    s = 1 + np.exp( -a3*(x-a2) )\n",
    "    y = a1 / s + a4\n",
    "    return y\n",
    "\n",
    "def inverse(x, a, b, c):\n",
    "    return a/(x-b) + c\n",
    "\n",
    "popt1 = [1.741759, 5.016247, 0.003036, -0.866097]\n",
    "popt2 = [0.54774, -2.797004, 0.790583]\n",
    "popt3 = [0.548174, 2.829586, -0.785972]\n",
    "\n",
    "def eval_to_winodds(eval_type, eval_int):\n",
    "\n",
    "    if eval_type == \"cp\":\n",
    "        return sigmoid(eval_int, *popt1)\n",
    "    else:\n",
    "        if eval_int > 0:\n",
    "            return inverse(eval_int, *popt2)\n",
    "        elif eval_int < 0:\n",
    "            return inverse(eval_int, *popt3)\n",
    "    return 0"
   ]
  },
  {
   "cell_type": "code",
   "execution_count": null,
   "id": "90424b24-ae52-48e1-899b-23ef10e2200f",
   "metadata": {},
   "outputs": [],
   "source": []
  },
  {
   "cell_type": "code",
   "execution_count": null,
   "id": "3acfad3a-e929-447a-bff4-a1442aba4962",
   "metadata": {},
   "outputs": [],
   "source": [
    "def get_df():\n",
    "    \n",
    "    game_moves, info, _ = file.get_and_parse_next_game()\n",
    "    is_good_game(info)\n",
    "    stockfish.start_new_game()\n",
    "\n",
    "    eval_types, eval_ints = [], []\n",
    "    bitboards = []\n",
    "    for game_move in game_moves:\n",
    "\n",
    "        (eval_type, eval_int), (second_type, second_int) = stockfish.get_eval(depth=6)\n",
    "        win_odds = eval_to_winodds(eval_type, eval_int)\n",
    "        win_odds_second = eval_to_winodds(second_type, second_int)\n",
    "\n",
    "        (eval_type, eval_int), (second_type, second_int) = stockfish.get_eval(depth=1)\n",
    "        win_odds_2 = eval_to_winodds(eval_type, eval_int)\n",
    "\n",
    "        bbm = stockfish.get_bitboard_matrix().astype(np.float32)\n",
    "        n_pieces = bbm.sum()\n",
    "        material = bbm.sum(axis=1)\n",
    "        pieces_diff = material[:6] - material[6:]\n",
    "\n",
    "        eval_and_more = np.array([win_odds, win_odds_second, win_odds_2, n_pieces, win_odds - win_odds_2, win_odds - win_odds_second])\n",
    "        \n",
    "        features = np.concat([bbm.flatten(), material, pieces_diff, eval_and_more])\n",
    "        add_info = np.array([\n",
    "            info['WhiteElo'] / 3000, \n",
    "            info['BlackElo'] / 3000, \n",
    "            (info['WhiteElo'] - info['BlackElo']) / 1000\n",
    "        ])\n",
    "        features = np.concat([features, add_info])\n",
    "        \n",
    "        bitboards.append( features )\n",
    "        stockfish.make_pgn_move(game_move)            \n",
    "\n",
    "    if stockfish.get_legal_moves():\n",
    "        pass\n",
    "    \n",
    "    bitboards = np.array(bitboards)\n",
    "    result_int = {\"1-0\": 1, \"0-1\": 0, \"1/2-1/2\": 0}.get(info[\"Result\"], 0)\n",
    "    results = result_int * np.ones(bitboards.shape[0], dtype=np.uint8)\n",
    "    \n",
    "    return bitboards, results"
   ]
  },
  {
   "cell_type": "code",
   "execution_count": null,
   "id": "bf4c3af6-38c4-4dab-9f8e-fe54120590d1",
   "metadata": {},
   "outputs": [],
   "source": []
  },
  {
   "cell_type": "code",
   "execution_count": null,
   "id": "a2771793-c3de-42c5-9d9e-a8f6cb8e6eed",
   "metadata": {},
   "outputs": [],
   "source": []
  },
  {
   "cell_type": "code",
   "execution_count": null,
   "id": "03e42efe-7a4a-484e-a1a9-14eeb3d59901",
   "metadata": {},
   "outputs": [],
   "source": [
    "def get_data(n_games=10):\n",
    "\n",
    "    XX = np.zeros((1, 795), dtype=np.float32)\n",
    "    YY = np.zeros(1, dtype=np.uint8)\n",
    "    \n",
    "    n_found = 0\n",
    "    while n_found < n_games:\n",
    "        try:\n",
    "            X, Y = get_df()\n",
    "            if not len(X):\n",
    "                continue\n",
    "        except:\n",
    "            continue\n",
    "        XX = np.concatenate((XX, X))\n",
    "        YY = np.concatenate((YY, Y))\n",
    "        \n",
    "        n_found += 1\n",
    "\n",
    "    return torch.Tensor(XX), torch.Tensor(YY)"
   ]
  },
  {
   "cell_type": "code",
   "execution_count": null,
   "id": "dc948f64-55a3-43f7-b13c-b593261091a9",
   "metadata": {},
   "outputs": [],
   "source": []
  },
  {
   "cell_type": "code",
   "execution_count": null,
   "id": "b9afd957-5b60-4323-a338-0ffffc5a20b4",
   "metadata": {},
   "outputs": [],
   "source": []
  },
  {
   "cell_type": "code",
   "execution_count": null,
   "id": "3eaec127-06c2-4318-be3e-6a2cec603729",
   "metadata": {},
   "outputs": [],
   "source": [
    "%%time\n",
    "test_data = get_data(n_games=300)"
   ]
  },
  {
   "cell_type": "code",
   "execution_count": null,
   "id": "4065eee3-c521-4785-8050-159c084f045c",
   "metadata": {},
   "outputs": [],
   "source": []
  },
  {
   "cell_type": "code",
   "execution_count": null,
   "id": "762fcaff-9f59-4239-9636-41e4a48da366",
   "metadata": {},
   "outputs": [],
   "source": []
  },
  {
   "cell_type": "markdown",
   "id": "be22d681-97c4-403c-8517-e0a5b61e8646",
   "metadata": {},
   "source": [
    "## NN"
   ]
  },
  {
   "cell_type": "code",
   "execution_count": null,
   "id": "5621992d-375e-42b3-9781-acfe28e7e9cd",
   "metadata": {},
   "outputs": [],
   "source": []
  },
  {
   "cell_type": "code",
   "execution_count": null,
   "id": "ef2fd56c-3ce4-442f-8c86-bdf66f6b3896",
   "metadata": {},
   "outputs": [],
   "source": [
    "N_CLASSES = 2\n",
    "\n",
    "class SimpleFC(nn.Module):\n",
    "    def __init__(self):\n",
    "        super().__init__()        \n",
    "        self.norm_input = nn.BatchNorm1d(795)\n",
    "        \n",
    "        self.layer_1 = nn.Linear(795, 32)\n",
    "        self.norm_1 = nn.BatchNorm1d(32)\n",
    "\n",
    "        self.layer_2 = nn.Linear(32, 16)\n",
    "        self.norm_2 = nn.BatchNorm1d(16)\n",
    "        \n",
    "        self.layer_out = nn.Linear(16, N_CLASSES) \n",
    "        \n",
    "    def forward(self, x):\n",
    "        x = self.norm_input(x)\n",
    "        \n",
    "        x = F.relu(self.layer_1(x))\n",
    "        x = self.norm_1(x)\n",
    "\n",
    "        x = F.relu(self.layer_2(x))\n",
    "        x = self.norm_2(x)\n",
    "        \n",
    "        x = F.sigmoid(self.layer_out(x))\n",
    "        return x"
   ]
  },
  {
   "cell_type": "code",
   "execution_count": null,
   "id": "40fba0aa-3208-4946-9ab3-dab495ae1afe",
   "metadata": {},
   "outputs": [],
   "source": [
    "model = SimpleFC()"
   ]
  },
  {
   "cell_type": "code",
   "execution_count": null,
   "id": "5904622f-9fe5-4e47-a925-1e665ac69797",
   "metadata": {},
   "outputs": [],
   "source": []
  },
  {
   "cell_type": "code",
   "execution_count": null,
   "id": "6850171c-6a7c-427d-9a67-eccf1cf63ff8",
   "metadata": {},
   "outputs": [],
   "source": [
    "criterion = nn.CrossEntropyLoss()\n",
    "optimizer = optim.Adam(model.parameters(), lr=5e-4)"
   ]
  },
  {
   "cell_type": "code",
   "execution_count": null,
   "id": "8cd2d091-7b24-41c6-a0fb-0be9ab139443",
   "metadata": {},
   "outputs": [],
   "source": [
    "train_losses = []\n",
    "test_losses = []\n",
    "accuracy_history = []"
   ]
  },
  {
   "cell_type": "code",
   "execution_count": null,
   "id": "343c69e5-20f7-4c3e-bd78-bfbe33375c17",
   "metadata": {},
   "outputs": [],
   "source": []
  },
  {
   "cell_type": "code",
   "execution_count": null,
   "id": "ee2eced9-10d8-45c8-bc34-50443340e7d9",
   "metadata": {},
   "outputs": [],
   "source": []
  },
  {
   "cell_type": "code",
   "execution_count": null,
   "id": "410674ee-e1e8-4ecb-b802-a2f22e199ceb",
   "metadata": {},
   "outputs": [],
   "source": [
    "for epoch in range(5):\n",
    "    # <train>\n",
    "    \n",
    "    model.train()\n",
    "    running_loss = 0.0\n",
    "\n",
    "    train_data = get_data(n_games=200)\n",
    "    n_times_to_see_train = 3\n",
    "    \n",
    "    for i in range(n_times_to_see_train):\n",
    "\n",
    "        inputs, labels = train_data\n",
    "        labels = labels.type(torch.LongTensor)        \n",
    "        \n",
    "        optimizer.zero_grad()\n",
    "    \n",
    "        outputs = model(inputs)\n",
    "        loss = criterion(outputs, labels)\n",
    "        loss.backward()\n",
    "        optimizer.step()\n",
    "        \n",
    "        running_loss += loss.item()\n",
    "\n",
    "    mean_loss = running_loss / n_times_to_see_train\n",
    "    train_losses.append(mean_loss)\n",
    "\n",
    "    # <test>\n",
    "    \n",
    "    model.eval()\n",
    "    correct, total = 0, 0\n",
    "    running_loss = 0.0\n",
    "\n",
    "    with torch.no_grad():\n",
    "            \n",
    "        images, labels = test_data\n",
    "        labels = labels.type(torch.LongTensor)\n",
    "        \n",
    "        outputs = model(images)\n",
    "        loss = criterion(outputs, labels)\n",
    "        running_loss += loss.item()\n",
    "        _, predicted = torch.max(outputs.data, 1)\n",
    "        total += labels.size(0)\n",
    "        correct += (predicted == labels).sum().item()\n",
    "\n",
    "    mean_loss_test = running_loss / 1\n",
    "    test_losses.append(mean_loss_test)\n",
    "\n",
    "    accuracy = correct / total\n",
    "    accuracy_history.append(accuracy)\n",
    "\n",
    "    print(f\"Epoch: {epoch}, Loss: {mean_loss:.6f}, Test: {mean_loss_test:.6f}, Acc: {accuracy:.6f}\")"
   ]
  },
  {
   "cell_type": "code",
   "execution_count": null,
   "id": "a78999d9-48e7-450b-8698-e0ef0bf96595",
   "metadata": {},
   "outputs": [],
   "source": []
  },
  {
   "cell_type": "code",
   "execution_count": null,
   "id": "6845ac90-0a52-4388-b42a-0569005193d2",
   "metadata": {},
   "outputs": [],
   "source": []
  },
  {
   "cell_type": "code",
   "execution_count": null,
   "id": "cb9ea249-f1e1-4c90-93fd-4dd5f6b29351",
   "metadata": {},
   "outputs": [],
   "source": [
    "fig = px.line(y=test_losses, template='plotly_dark')\n",
    "fig.update_traces(mode=\"lines\")\n",
    "fig.update_layout(xaxis_title=\"Эпоха\", yaxis_title=\"Test Loss\")\n",
    "fig.update_layout(height=500, width=1000)\n",
    "fig.show()"
   ]
  },
  {
   "cell_type": "code",
   "execution_count": null,
   "id": "d0139566-3aff-4538-a6a2-6ed02b63eefd",
   "metadata": {},
   "outputs": [],
   "source": [
    "fig = px.line(y=train_losses, template='plotly_dark')\n",
    "fig.update_traces(mode=\"lines\")\n",
    "fig.update_layout(xaxis_title=\"Эпоха\", yaxis_title=\"Loss\")\n",
    "fig.update_layout(height=500, width=1000)\n",
    "fig.show()"
   ]
  },
  {
   "cell_type": "code",
   "execution_count": null,
   "id": "6e7b18f0-fbba-4941-b360-9dd4a86203e9",
   "metadata": {},
   "outputs": [],
   "source": [
    "fig = px.line(y=accuracy_history, template='plotly_dark')\n",
    "fig.update_traces(mode=\"lines\")\n",
    "fig.update_layout(xaxis_title=\"Эпоха\", yaxis_title=\"Test Accuracy\")\n",
    "fig.update_layout(height=500, width=1000)\n",
    "fig.show()"
   ]
  },
  {
   "cell_type": "code",
   "execution_count": null,
   "id": "f9759baa-db37-4e52-9135-1374ca9c8e38",
   "metadata": {},
   "outputs": [],
   "source": []
  },
  {
   "cell_type": "code",
   "execution_count": null,
   "id": "3abfd95e-4bff-4fd1-a541-a328c089bd5c",
   "metadata": {},
   "outputs": [],
   "source": []
  },
  {
   "cell_type": "code",
   "execution_count": null,
   "id": "14d2f9ef-8703-4e83-9ab8-753ff2bc61d5",
   "metadata": {},
   "outputs": [],
   "source": [
    "model.eval()\n",
    "with torch.no_grad():\n",
    "        \n",
    "    images, labels = test_data\n",
    "    labels = labels.type(torch.LongTensor)\n",
    "    \n",
    "    outputs = model(images)"
   ]
  },
  {
   "cell_type": "code",
   "execution_count": null,
   "id": "867e8d15-3f2a-4f83-bffc-d0c729d39167",
   "metadata": {},
   "outputs": [],
   "source": [
    "pred = outputs[:, 1].numpy()"
   ]
  },
  {
   "cell_type": "code",
   "execution_count": null,
   "id": "85d69ddf-f1e5-4e8f-83a8-33beeaa58a2a",
   "metadata": {},
   "outputs": [],
   "source": [
    "y = labels.numpy()"
   ]
  },
  {
   "cell_type": "code",
   "execution_count": null,
   "id": "bd3905dd-dbc1-4ef5-9ff0-2a00fb9f2c4e",
   "metadata": {},
   "outputs": [],
   "source": [
    "df = pd.DataFrame({\"pred\": pred, \"y\": y})"
   ]
  },
  {
   "cell_type": "code",
   "execution_count": null,
   "id": "0161279e-fad6-4e96-b380-dcae0ca5cc83",
   "metadata": {},
   "outputs": [],
   "source": [
    "px.line(\n",
    "    df.groupby( df[\"pred\"] // 0.10 * 0.10 + 0.05 ).agg({\"y\": \"mean\"}).squeeze(),\n",
    "    template='plotly_dark'\n",
    ").update_layout(height=800, width=800, yaxis_range=(0, 1), xaxis_range=(0, 1)).update_traces(mode=\"lines+markers\")"
   ]
  },
  {
   "cell_type": "code",
   "execution_count": null,
   "id": "5c40bc3a-c646-4f50-acc2-fc798c47a343",
   "metadata": {},
   "outputs": [],
   "source": []
  },
  {
   "cell_type": "code",
   "execution_count": null,
   "id": "aecb1a09-7f04-4fe0-aef0-6508952d2ae8",
   "metadata": {},
   "outputs": [],
   "source": []
  },
  {
   "cell_type": "code",
   "execution_count": null,
   "id": "74d14ac9-a53b-4f96-8ed9-97069fd148a5",
   "metadata": {},
   "outputs": [],
   "source": []
  },
  {
   "cell_type": "code",
   "execution_count": null,
   "id": "6c2b1471-21a4-4963-82fd-df1817d68fbd",
   "metadata": {},
   "outputs": [],
   "source": []
  },
  {
   "cell_type": "code",
   "execution_count": null,
   "id": "f5379019-a181-4e3d-b49a-71fffa067f7d",
   "metadata": {},
   "outputs": [],
   "source": []
  }
 ],
 "metadata": {
  "kernelspec": {
   "display_name": "Python 3 (ipykernel)",
   "language": "python",
   "name": "python3"
  },
  "language_info": {
   "codemirror_mode": {
    "name": "ipython",
    "version": 3
   },
   "file_extension": ".py",
   "mimetype": "text/x-python",
   "name": "python",
   "nbconvert_exporter": "python",
   "pygments_lexer": "ipython3",
   "version": "3.12.8"
  }
 },
 "nbformat": 4,
 "nbformat_minor": 5
}
