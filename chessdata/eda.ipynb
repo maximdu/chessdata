{
 "cells": [
  {
   "cell_type": "code",
   "execution_count": null,
   "id": "37ba6137-ef03-4924-8fb8-4970819a18dc",
   "metadata": {},
   "outputs": [],
   "source": [
    "from chessf.parser import FilePGN\n",
    "from chessf.engine import Stockfish\n",
    "\n",
    "import numpy as np\n",
    "import pandas as pd\n",
    "\n",
    "import torch\n",
    "import torch.nn as nn\n",
    "import torch.nn.functional as F\n",
    "import torch.optim as optim\n",
    "from torch.utils.data import DataLoader, TensorDataset\n",
    "torch.manual_seed(0)\n",
    "\n",
    "import plotly.express as px\n",
    "from time import perf_counter\n",
    "\n",
    "from scipy.optimize import curve_fit"
   ]
  },
  {
   "cell_type": "code",
   "execution_count": null,
   "id": "7cff7881-d07a-465b-923d-929de5223da7",
   "metadata": {},
   "outputs": [],
   "source": [
    "pgn_2017_02 = \"pgn/lichess_db_standard_rated_2017-02.pgn\"\n",
    "file = FilePGN(pgn_2017_02)"
   ]
  },
  {
   "cell_type": "code",
   "execution_count": null,
   "id": "e8722e9a-66e3-48c3-919c-660bf0750e23",
   "metadata": {},
   "outputs": [],
   "source": [
    "stockfish_path = \"stockfish/stockfish.exe\"\n",
    "stockfish = Stockfish(stockfish_path)"
   ]
  },
  {
   "cell_type": "code",
   "execution_count": null,
   "id": "0095f523-1767-469c-b160-37de2840c421",
   "metadata": {},
   "outputs": [],
   "source": []
  },
  {
   "cell_type": "markdown",
   "id": "3ecc4cc7-c721-4fc2-9362-02af2b0484d3",
   "metadata": {},
   "source": [
    "## Eval CP"
   ]
  },
  {
   "cell_type": "code",
   "execution_count": null,
   "id": "f1633cee-96aa-4436-9af7-5e0162412038",
   "metadata": {},
   "outputs": [],
   "source": [
    "white_won = []\n",
    "evals = []\n",
    "\n",
    "for i in range(100_000):\n",
    "    print(i, end='\\r')\n",
    "    \n",
    "    game_moves, info = file.get_and_parse_next_good_game()\n",
    "    stockfish.start_new_game()\n",
    "    is_white_won = int(info['Result'] == '1-0')\n",
    "    \n",
    "    for game_move in game_moves:\n",
    "    \n",
    "        eval_type, eval_int = stockfish.get_eval(depth=5)\n",
    "\n",
    "        if eval_type == 'cp':\n",
    "            evals.append(eval_int)\n",
    "            white_won.append(is_white_won)\n",
    "        \n",
    "        stockfish.make_pgn_move(game_move)"
   ]
  },
  {
   "cell_type": "code",
   "execution_count": null,
   "id": "3e70c03d-ac5b-44fa-ba5f-0ccb4a77bcd0",
   "metadata": {},
   "outputs": [],
   "source": []
  },
  {
   "cell_type": "code",
   "execution_count": null,
   "id": "75042ae2-35ef-4054-9363-86a780da0002",
   "metadata": {},
   "outputs": [],
   "source": []
  },
  {
   "cell_type": "code",
   "execution_count": null,
   "id": "1c85947d-4a7c-4ac3-ab1b-353e2567eab2",
   "metadata": {},
   "outputs": [],
   "source": [
    "df = pd.DataFrame({'material_diffs': evals, 'white_won': white_won})"
   ]
  },
  {
   "cell_type": "code",
   "execution_count": null,
   "id": "ea021441-22fd-4934-89e2-8cde7a3f1d17",
   "metadata": {},
   "outputs": [],
   "source": []
  },
  {
   "cell_type": "code",
   "execution_count": null,
   "id": "dcf6e480-5c43-4c60-b6f4-07a9b68decb9",
   "metadata": {},
   "outputs": [],
   "source": [
    "g = df.groupby(\n",
    "    df['material_diffs'].clip(-1200, 1200) // 50 * 50 + 25\n",
    ").agg({'white_won': 'mean'}).squeeze()"
   ]
  },
  {
   "cell_type": "code",
   "execution_count": null,
   "id": "99a72d3b-4745-415c-ade1-dc9d4873c9b7",
   "metadata": {},
   "outputs": [],
   "source": []
  },
  {
   "cell_type": "code",
   "execution_count": null,
   "id": "75d24583-71da-48d6-bbe9-0f8b2a2afa4f",
   "metadata": {},
   "outputs": [],
   "source": [
    "px.line(g, template='plotly_white')"
   ]
  },
  {
   "cell_type": "code",
   "execution_count": null,
   "id": "ff946b69-9aaf-4ac6-8778-63ad68c099d9",
   "metadata": {},
   "outputs": [],
   "source": []
  },
  {
   "cell_type": "code",
   "execution_count": null,
   "id": "c047775b-64c1-4468-bc59-4474d31f7e0b",
   "metadata": {},
   "outputs": [],
   "source": [
    "def sigmoid(x, a, b):\n",
    "    return 1 / (1 + np.exp((-x+b)/a))\n",
    "    \n",
    "p0 = (300, 10)\n",
    "\n",
    "popt_1 = curve_fit(sigmoid, g.index.values, g.values, p0=p0)[0]\n",
    "popt_1"
   ]
  },
  {
   "cell_type": "code",
   "execution_count": null,
   "id": "c76ef3c2-da26-4749-b097-eb2c945c3c81",
   "metadata": {},
   "outputs": [],
   "source": []
  },
  {
   "cell_type": "code",
   "execution_count": null,
   "id": "ea46ce28-5f70-4af7-9d97-9e15ac94ad81",
   "metadata": {},
   "outputs": [],
   "source": [
    "pred = sigmoid(g.index.values, *popt_1)"
   ]
  },
  {
   "cell_type": "code",
   "execution_count": null,
   "id": "14e26ca6-41f3-4ba2-9ff4-c1abc4284410",
   "metadata": {},
   "outputs": [],
   "source": [
    "px.line(x=g.index.values, y=[g, pred], template='plotly_white').update_layout(showlegend=False)"
   ]
  },
  {
   "cell_type": "code",
   "execution_count": null,
   "id": "b3c66ff2-2dc6-4e99-af9d-9db7397b3a72",
   "metadata": {},
   "outputs": [],
   "source": []
  },
  {
   "cell_type": "code",
   "execution_count": null,
   "id": "6f4d5e23-818a-442d-9c53-ff37425f63ae",
   "metadata": {},
   "outputs": [],
   "source": [
    "np.mean(np.square(g.values - pred)) * 1000"
   ]
  },
  {
   "cell_type": "code",
   "execution_count": null,
   "id": "d7b438b3-8f3b-4c7c-9919-7c12c5723fc0",
   "metadata": {},
   "outputs": [],
   "source": [
    "popt_1"
   ]
  },
  {
   "cell_type": "code",
   "execution_count": null,
   "id": "6c4fc64c-c154-436c-81bc-4fb4181eaee6",
   "metadata": {},
   "outputs": [],
   "source": []
  },
  {
   "cell_type": "code",
   "execution_count": null,
   "id": "40554c33-330e-417c-a4ad-07ff292cf6a3",
   "metadata": {},
   "outputs": [],
   "source": []
  },
  {
   "cell_type": "markdown",
   "id": "dd903bc9-896e-4256-a347-2f3f43bce1b9",
   "metadata": {},
   "source": [
    "## Draws"
   ]
  },
  {
   "cell_type": "code",
   "execution_count": null,
   "id": "a77d8644-ad9b-4ff4-bf63-d06e79dbef6a",
   "metadata": {},
   "outputs": [],
   "source": [
    "n_draws = 0\n",
    "n_games = 500_000\n",
    "for _ in range(n_games):\n",
    "    game = file.get_next_game()\n",
    "    if '[Result \"1/2-1/2\"]' in game:\n",
    "        n_draws += 1"
   ]
  },
  {
   "cell_type": "code",
   "execution_count": null,
   "id": "4b469d13-396e-4702-a1df-e2d4d30f5e06",
   "metadata": {},
   "outputs": [],
   "source": [
    "n_draws / n_games"
   ]
  },
  {
   "cell_type": "code",
   "execution_count": null,
   "id": "8b3e05f2-2241-4fb1-a13d-72d914a20915",
   "metadata": {},
   "outputs": [],
   "source": []
  },
  {
   "cell_type": "markdown",
   "id": "9ecefcdb-5625-4fda-a644-c92c55da8437",
   "metadata": {},
   "source": [
    "## Rating diff"
   ]
  },
  {
   "cell_type": "code",
   "execution_count": null,
   "id": "c11c8189-d4b4-4dd2-8746-80329615d3f7",
   "metadata": {},
   "outputs": [],
   "source": [
    "diffs = []\n",
    "for _ in range(20_000):\n",
    "    moves, info = file.get_and_parse_next_good_game()\n",
    "    elo_diff = info['WhiteElo'] - info['BlackElo']\n",
    "    diffs.append(elo_diff)"
   ]
  },
  {
   "cell_type": "code",
   "execution_count": null,
   "id": "1ff8a699-4676-4eae-860f-5ba975c397a8",
   "metadata": {},
   "outputs": [],
   "source": []
  },
  {
   "cell_type": "code",
   "execution_count": null,
   "id": "dfef24af-f0cf-4af5-8813-9af63ebca7e9",
   "metadata": {},
   "outputs": [],
   "source": [
    "px.histogram(diffs)"
   ]
  },
  {
   "cell_type": "code",
   "execution_count": null,
   "id": "66df6943-fc6d-4fc7-b51f-ba2792a7f2d9",
   "metadata": {},
   "outputs": [],
   "source": []
  },
  {
   "cell_type": "code",
   "execution_count": null,
   "id": "8a78b0e8-b4c1-4b69-b197-70b8e0fcd209",
   "metadata": {},
   "outputs": [],
   "source": [
    "np.quantile(diffs, [0.20, 0.40, 0.60, 0.80])"
   ]
  },
  {
   "cell_type": "code",
   "execution_count": null,
   "id": "a447ecb7-14b0-4bcd-96f9-08761bc18bcc",
   "metadata": {},
   "outputs": [],
   "source": []
  },
  {
   "cell_type": "code",
   "execution_count": null,
   "id": "237660ac-96de-4b91-8193-da23cddace63",
   "metadata": {},
   "outputs": [],
   "source": []
  }
 ],
 "metadata": {
  "kernelspec": {
   "display_name": "Python 3 (ipykernel)",
   "language": "python",
   "name": "python3"
  },
  "language_info": {
   "codemirror_mode": {
    "name": "ipython",
    "version": 3
   },
   "file_extension": ".py",
   "mimetype": "text/x-python",
   "name": "python",
   "nbconvert_exporter": "python",
   "pygments_lexer": "ipython3",
   "version": "3.12.8"
  }
 },
 "nbformat": 4,
 "nbformat_minor": 5
}
